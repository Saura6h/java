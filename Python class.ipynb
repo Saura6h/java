{
 "metadata": {
  "language_info": {
   "codemirror_mode": {
    "name": "ipython",
    "version": 3
   },
   "file_extension": ".py",
   "mimetype": "text/x-python",
   "name": "python",
   "nbconvert_exporter": "python",
   "pygments_lexer": "ipython3",
   "version": "3.7.2-final"
  },
  "orig_nbformat": 2,
  "kernelspec": {
   "name": "python37232bite8f606d07b9a49c6ae70c186359c546c",
   "display_name": "Python 3.7.2 32-bit"
  }
 },
 "nbformat": 4,
 "nbformat_minor": 2,
 "cells": [
  {
   "source": [
    "Step 1. Arrange all cards in a single pile called Pile <br>\n",
    "Step 2. Maintain two variables A, B and initialize them to 0<br>\n",
    "Step 3. If Pile 1 is empty then stop the iteration<br>\n",
    "Step 4. Read the top card in Pile 1<br>\n",
    "Step 5. If Letter count > A then store A in B and Letter count in A<br>\n",
    "Step 6. If Letter count < A and Letter count > B then store Letter count in B<br>\n",
    "Step 7. Move the current card to another pile called Pile 2 and repeat from step 3<br>"
   ],
   "cell_type": "markdown",
   "metadata": {}
  },
  {
   "source": [
    "starting point of the loop <br>\n",
    "how fast the loop moves forward<br>\n",
    "condn for stopping the loop<br>\n",
    "for, while, do while"
   ],
   "cell_type": "markdown",
   "metadata": {}
  },
  {
   "cell_type": "code",
   "execution_count": 4,
   "metadata": {},
   "outputs": [
    {
     "output_type": "stream",
     "name": "stdout",
     "text": [
      "hum apke hain kaun\n0\n1\n2\n3\n4\n5\n6\n7\n8\n9\n"
     ]
    }
   ],
   "source": [
    "for i in range(1,10):\n",
    "    print(\"hello\")\n",
    "    for j in range(3):\n",
    "        print (\"get a life\")"
   ]
  },
  {
   "source": [
    "Exercise: Take out the following result:<br>\n",
    "0,3,6,9,12<br>\n",
    "0,1,2,3,5,6<br>\n"
   ],
   "cell_type": "markdown",
   "metadata": {}
  }
 ]
}